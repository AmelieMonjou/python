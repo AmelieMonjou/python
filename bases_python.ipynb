{
 "cells": [
  {
   "cell_type": "markdown",
   "metadata": {},
   "source": [
    "<div style=\"padding:5px; border-radius:10px;\">\n",
    "    \n",
    "<h1 style=\"text-align:center;color:red;\"> Introduction au langage python </h1>"
   ]
  },
  {
   "cell_type": "markdown",
   "metadata": {},
   "source": [
    "<h2 style=\"color: green; font-style: 16px italic verdana;\"> 1. Quelques rappels</h2>"
   ]
  },
  {
   "cell_type": "markdown",
   "metadata": {},
   "source": [
    "Dans cette partie, nous allons revoir les notions de variables, d'affectation et les types que vous pouvez affecter à une variable.\n",
    "\n",
    "Dans la suite vous pouvez exécuter les cellules de code **Entrée [...]** en cliquant sur Exécuter ou en appuyant sur [Maj]+[Entrée].\n",
    "\n",
    "<h3 style=\"color: blue; font-style: 10pxverdana;\"> a) Variables et affectation</h3>\n",
    "\n",
    "<div class=\"alert alert-info\" role=\"alert\">\n",
    "    \n",
    "**Définitions**\n",
    "- Une variable informatique est un emplacement dans la mémoire de l'ordinateur, qui permet de stocker toute sorte d'information : valeur numérique, texte ou autre. On accède à cette variable grâce à son nom.\n",
    "- L'affectation est l'instruction qui permet d'associer une valeur à une variable.\n",
    "    <br><br>\n",
    "</div>\n",
    "\n",
    "**Exemples**\n",
    "\n",
    "L'instruction `a = 12` est une affectation : elle stocke le nombre entier 12 dans la variable `a`.  \n",
    "L'instruction `b = -3.141592654` est une affectation : elle stocke le nombre réel -3,141592654 dans la variable `b`.  \n",
    "L'instruction `c = \"Lycée Jean Jaurès\"` est une affectation : elle stocke le texte \"Lycée Jean Jaurès\" dans la variable `c`. "
   ]
  },
  {
   "cell_type": "code",
   "execution_count": null,
   "metadata": {},
   "outputs": [],
   "source": [
    "# Tester les trois affectations précédentes dans cette cellule de code :\n",
    "a = 12\n",
    "a"
   ]
  },
  {
   "cell_type": "markdown",
   "metadata": {},
   "source": [
    "<div class=\"alert alert-danger\" role=\"alert\">\n",
    "    \n",
    "**Remarques :**\n",
    "\n",
    "<ul style=\" list-style-type: none;\">\n",
    "        <li> - En Python, comme dans beaucoup de langages informatiques, l'affectation s'écrit \"=\".</li>\n",
    "        <li> - En informatique les nombres décimaux s'écrivent avec un point et non une virgule.</li>\n",
    "        <li> - Le nom d'une variable ne doit contenir ni espace, ni tiret \"-\".</li>\n",
    "    </ul>\n",
    "</div>"
   ]
  },
  {
   "cell_type": "markdown",
   "metadata": {},
   "source": [
    "<div class=\"alert alert-info\" role=\"alert\">\n",
    "  \n",
    "**Définition : types de variables**  \n",
    "On distingue quatre principaux types de variables :\n",
    "- les entiers (*integer* en anglais), correspondant aux entiers naturels en mathématiques.\n",
    "- les flottants (*float* en anglais), correspondant aux nombres réels.\n",
    "- les chaînes de caractères (*string* en anglais), correspondant à du texte.\n",
    "- les booléens (*boolean* en anglais), prenant uniquement une des deux valeurs logiques suivantes : Vrai (True) ou Faux (False).\n",
    "</div>  \n",
    "<div class=\"alert alert-success\" style=\"border-left: 15px solid #3c763d;border-radius:2px;\">\n",
    "    <b>Exemples</b> Donner le type des variables suivantes. \n",
    "</div>\n",
    "\n"
   ]
  },
  {
   "cell_type": "code",
   "execution_count": null,
   "metadata": {},
   "outputs": [],
   "source": [
    "a = 13.8 # la variable a est de type ...\n",
    "b = \"J'ai encore raté mon bus\" # la variable b est de type...\n",
    "c = 123456789 # la variable c est de type ...\n",
    "d = True # la variable d est de type ..."
   ]
  },
  {
   "cell_type": "code",
   "execution_count": null,
   "metadata": {},
   "outputs": [],
   "source": [
    "type(a)"
   ]
  },
  {
   "cell_type": "code",
   "execution_count": null,
   "metadata": {},
   "outputs": [],
   "source": []
  },
  {
   "cell_type": "markdown",
   "metadata": {},
   "source": [
    "<h3 style=\"color: blue; font-style: verdana;\"> b) Calculs en python</h3>\n",
    "\n",
    "En Python, les opérations numériques s'effectuent avec les symboles suivants.  \n",
    "\n",
    "| Opération      | Caractère   |\n",
    "| :------------- | :---------: |\n",
    "| Addition       |           + |\n",
    "| Soustraction   |           - |\n",
    "| Multiplication |          \\* |\n",
    "| Division       |           / |\n",
    "| Puissance      |        \\*\\* |\n",
    "| Valeur absolue |        abs()|\n",
    "| Racine carrée  |       sqrt()|\n",
    "\n",
    "\n",
    "<div class=\"alert alert-success\" style=\"border-left: 15px solid #3c763d;border-radius:2px;\">\n",
    "    <b>Exercices</b>\n",
    "</div>\n"
   ]
  },
  {
   "cell_type": "code",
   "execution_count": null,
   "metadata": {},
   "outputs": [],
   "source": [
    "# On veut calculer le périmètre d'un rectangle de longueur 8 cm et de largeur 5 cm.\n",
    "# Compléter le code ci-dessous, l'exécuter et écrire le résultat en commentaire.\n",
    "longueur = ...\n",
    "largeur = ...\n",
    "(longueur+largeur)*2\n",
    "# Le périmètre vaut ... cm"
   ]
  },
  {
   "cell_type": "code",
   "execution_count": null,
   "metadata": {},
   "outputs": [],
   "source": [
    "# Affecter les valeurs 4, 12.6 et -14.78 à trois variables a, b et c.\n",
    "# Déterminer ensuite la valeur de l'expression 2a*(b/3 - c²).\n",
    "...\n",
    "...\n",
    "...\n",
    "...\n",
    "# L'expression 2a*(b/3 - c²) vaut exactement ..."
   ]
  },
  {
   "cell_type": "code",
   "execution_count": null,
   "metadata": {},
   "outputs": [],
   "source": [
    "# En 2017, environ 94% de la population française possédait un téléphone portable.\n",
    "# La population française est estimée à 66 990 826 individus.\n",
    "# Calculer le nombre d'habitants possédant un téléphone portable.\n",
    "...\n",
    "...\n",
    "...\n",
    "# Le nombre d'habitants possédant un téléphone portable est estimé à ..."
   ]
  },
  {
   "cell_type": "code",
   "execution_count": null,
   "metadata": {},
   "outputs": [],
   "source": [
    "# ABC est un triangle rectangle en A avec AB = 8 cm et AC = 7 cm.\n",
    "# Déterminer la longueur de son hypoténuse, puis la valeur de son aire.\n",
    "...\n",
    "...\n",
    "# BC = ... cm et Aire(ABC) = ... cm²"
   ]
  },
  {
   "cell_type": "markdown",
   "metadata": {},
   "source": [
    "<h3 style=\"color: blue; font-style: 16px italic verdana;\"> c) Entrée de valeurs</h3>"
   ]
  },
  {
   "cell_type": "markdown",
   "metadata": {},
   "source": [
    "<div class=\"alert alert-info\" role=\"alert\">\n",
    "En Python, on utilise l'instruction <code>input()</code> pour saisir une valeur d'entrée. Cette instruction considère par défaut que tout ce qui est saisi de cette manière est une chaîne de caractères. Si ce n'est pas le cas, il faut lui indiquer de la manière suivante : <br> \n",
    "- pour entrer un entier (ou integer) : <br>\n",
    "<code>a = int(input())\n",
    "</code>  \n",
    "- pour entrer un flottant (ou float) :     <br>\n",
    "<code> b = float(input())\n",
    "</code>  \n",
    "\n",
    "</div>\n",
    "<div class=\"alert alert-success\" style=\"border-left: 15px solid #3c763d;border-radius:2px;\">\n",
    "    <b>Exercices</b>\n",
    "</div>\n"
   ]
  },
  {
   "cell_type": "code",
   "execution_count": null,
   "metadata": {},
   "outputs": [],
   "source": [
    "# Compléter le programme suivant pour qu'il calcule le volume d'un cube de côté x.\n",
    "# x est le nom de la variable dans laquelle on stocke la valeur entrée par l'utilisateur.\n",
    "x = float(input())\n",
    "...\n",
    "..."
   ]
  },
  {
   "cell_type": "code",
   "execution_count": null,
   "metadata": {},
   "outputs": [],
   "source": [
    "#Demander à un utilisateur de compléter une variable \"artiste\" indiquant son artiste préféré.\n",
    "..."
   ]
  },
  {
   "cell_type": "markdown",
   "metadata": {},
   "source": [
    "<h2 style=\"color: green; font-style: 16px italic verdana;\"> 2. Instruction conditionnelle <code>If</code></h2>"
   ]
  },
  {
   "cell_type": "markdown",
   "metadata": {},
   "source": [
    "<div class=\"alert alert-info\" role=\"alert\">\n",
    " \n",
    "**Définition**  \n",
    "L'instruction conditionnelle est composée de deux parties :\n",
    "- une condition, marquée par le mot clé `if`.\n",
    "- une instruction, appelée aussi *traitement*, exécutée uniquement si la condition est vraie.  \n",
    "</div>\n",
    "\n",
    "En pseudo-code :  \n",
    "  \n",
    "    Si condition alors\n",
    "        traitement\n",
    "    Fin Si\n",
    "\n",
    " <div class=\"alert alert-danger\" role=\"alert\">\n",
    "\n",
    "**Remarques**\n",
    "+ Une condition peut uniquement être vraie (True) ou fausse (False). On parle de condition *booléenne*.\n",
    "+ Une condition donne très souvent lieu à un test. Si l'on veut tester l'égalité entre une variable `a` et la valeur `12`, on écrira `a == 12`, avec deux \"=\".\n",
    "+ En Python, l'instruction conditionnelle s'écrit ainsi :\n",
    "```langague-python\n",
    "if (a == 12) :\n",
    "      b = a*3\n",
    "```\n",
    "L'indentation, c'est-à-dire le décalage vers la droite, après le \":\" est obligatoire. Tout ce qui est décalé est considéré comme contenu dans le traitement.\n",
    "\n",
    "    </div>\n",
    "   \n",
    "<div class=\"alert alert-success\" style=\"border-left: 15px solid #3c763d;border-radius:2px;\">\n",
    "  \n",
    "**Exemple**  \n",
    "Tester le programme suivant. Que fait-il ?\n",
    "\n",
    "</div>"
   ]
  },
  {
   "cell_type": "code",
   "execution_count": null,
   "metadata": {},
   "outputs": [],
   "source": [
    "a = float(input(\"Entrer un nombre réel : \"))\n",
    "if (a > 0):\n",
    "    print(\"Le nombre a est strictement positif\")\n",
    "# Le programme ...\n",
    "\n"
   ]
  },
  {
   "cell_type": "markdown",
   "metadata": {},
   "source": [
    "<div class=\"alert alert-info\" role=\"alert\">\n",
    "\n",
    "**Définition : instruction `si ... sinon si ...sinon`**  \n",
    "Une instruction conditionnelle peut contenir, en plus d'une condition et d'un traitement, \n",
    "un traitement alternatif (si la première condition n'est pas réalisée) et même une ou plusieurs conditions supplémentaires, agrémentées des traitements correspondants.\n",
    "\n",
    "En pseudo-code :  \n",
    "  \n",
    "    Si condition alors\n",
    "        traitement_1\n",
    "    Sinon\n",
    "        traitement_2    <-- traitement alternatif\n",
    "    Fin Si\n",
    "\n",
    "ou alors :\n",
    "  \n",
    "    Si condition_1 alors\n",
    "        traitement_1\n",
    "    Sinon Si condition_2 alors     <-- condition supplémentaire\n",
    "        traitement_2               <-- traitement supplémentaire\n",
    "    Sinon Si condition_3 alors     <-- condition supplémentaire\n",
    "        traitement_3               <-- traitement supplémentaire\n",
    "    Sinon\n",
    "        traitement_4               <-- traitement alternatif\n",
    "    Fin Si\n",
    "  \n",
    "</div> \n",
    "                                                                                                                   \n",
    "<div class=\"alert alert-danger\" role=\"alert\">\n",
    "                                                                                                                    \n",
    "**Remarques**  \n",
    "+ En Python, le Sinon s'écrit `else` et le Sinon Si `elif`, contraction de `else` et `if`.\n",
    "+ En Python, une instruction conditionnelle complexe s'écrit ainsi :\n",
    "```langague-python\n",
    "if (a > 0) :\n",
    "      print(\"Le nombre a est strictement positif\")\n",
    "elif (a < 0) :\n",
    "      print(\"Le nombre a est strictement négatif\")\n",
    "else :\n",
    "      print(\"Le nombre a est nul\")\n",
    "```                                                                                                              \n",
    "                                                                                                                    \n",
    "                                                                                                                    \n",
    "</div>\n",
    "                                                                                                                     \n",
    "<div class=\"alert alert-success\" style=\"border-left: 15px solid #3c763d;border-radius:2px;\">\n",
    "                                                                                                                    \n",
    "                                                                                                                    \n",
    "**Exemple**  \n",
    "Tester le programme suivant. Que fait-il ?\n",
    "                                                                                                                  "
   ]
  },
  {
   "cell_type": "code",
   "execution_count": null,
   "metadata": {},
   "outputs": [],
   "source": [
    "age = float(input(\"Veuillez entrer votre âge : \"))\n",
    "if (age > 18):\n",
    "    print(\"Vous êtes majeur, vous avez un accès total à notre site.\")\n",
    "else :\n",
    "    print(\"Désolé, nous vous redirigeons vers un site adapté à votre âge.\")\n",
    "# Le programme ...\n",
    "\n",
    "\n"
   ]
  },
  {
   "cell_type": "markdown",
   "metadata": {},
   "source": [
    "Dans la cellule suivante, modifier le programme précédent afin de traiter différemment les âges suspects (négatifs ou supérieurs à 150)."
   ]
  },
  {
   "cell_type": "code",
   "execution_count": null,
   "metadata": {},
   "outputs": [],
   "source": [
    "age = float(input(\"Veuillez entrer votre âge : \"))\n",
    "if (age > 18):\n",
    "    print(\"Vous êtes majeur, vous avez un accès total à notre site.\")\n",
    "..."
   ]
  },
  {
   "cell_type": "markdown",
   "metadata": {},
   "source": [
    "<div class=\"alert alert-success\" style=\"border-left: 15px solid #3c763d;border-radius:2px;\">\n",
    "\n",
    "Ecrire un programme permettant de comparer l'âge de deux personnes. Votre programme demandera à l'utilisateur d'entrer les noms et âges de 2 personnes (vous aurez donc 4 variables: nom1, nom2, age1 et age2) puis affichera en sortie une phrase avec les deux noms et la réponse sur la comparaison des âges (\"plus jeune\", \"plus âgé\", \"même âge\").\n",
    "    </div>"
   ]
  },
  {
   "cell_type": "code",
   "execution_count": null,
   "metadata": {},
   "outputs": [],
   "source": []
  },
  {
   "cell_type": "markdown",
   "metadata": {},
   "source": [
    "<h2 style=\"color: green; font-style: 16px italic verdana;\"> 3. Boucles</h2> "
   ]
  },
  {
   "cell_type": "markdown",
   "metadata": {},
   "source": [
    "<h3 style=\"color: blue; font-style: 16px italic verdana;\"> a) Boucle bornée : <code>for</code> </h3> \n",
    "\n",
    "<div class=\"alert alert-info\" role=\"alert\">\n",
    "\n",
    "  \n",
    "**Définition**  \n",
    "Si l'on désire répéter une instruction plusieurs fois, deux solutions s'offrent à nous :\n",
    "1. Ecrire plusieurs fois l'instruction, en séquence. C'est pénible et fort peu pratique.\n",
    "2. Utiliser une *boucle*. Lorsque que le nombre de répétitions est connu, on utilise une *boucle bornée*. Une boucle bornée nécessite un *compteur*, c'est-à-dire une variable qui compte le nombre de tours de la boucle.\n",
    "\n",
    "En pseudo-code :  \n",
    "  \n",
    "    Pour i allant de 1 à n Faire     <-- ici le compteur est la variable i\n",
    "        Traitement\n",
    "    Fin Pour  \n",
    "\n",
    "</div>\n",
    "    \n",
    "<div class=\"alert alert-danger\" role=\"alert\">\n",
    "\n",
    "**Remarques**  \n",
    "+ En Python, la fonction `range()` est indispensable pour écrire une boucle. Elle énumère les entiers de 0 à la valeur strictement inférieure à celle entrée dans la fonction. Autrement dit, si on veut énumérer les entiers de 0 à 9, on écrira `range(10)`.\n",
    "+ En Python, une boucle bornée s'écrit avec le mot clé `for` :\n",
    "```langage-python\n",
    "for i in range(10):\n",
    "      print(\"J'adore la programmation !\")\n",
    "```\n",
    "Ce programme affiche 10 fois \"J'adore la programmation !\". Pas très utile...  \n",
    "</div>\n",
    "    \n",
    "<div class=\"alert alert-success\" style=\"border-left: 15px solid #3c763d;border-radius:2px;\">\n",
    "\n",
    "**Exemples**  \n",
    "Tester le programme suivant. Que fait-il ?\n",
    "</div>"
   ]
  },
  {
   "cell_type": "code",
   "execution_count": null,
   "metadata": {},
   "outputs": [],
   "source": [
    "for i in range(1,11):\n",
    "    print(9*i)\n",
    "# Le programme ...\n",
    "\n",
    "# On remarque que le compteur va de ... à ..."
   ]
  },
  {
   "cell_type": "code",
   "execution_count": null,
   "metadata": {},
   "outputs": [],
   "source": [
    "somme = 0\n",
    "for i in range(100):\n",
    "    somme = somme + i\n",
    "somme\n",
    "# Le programme ...\n"
   ]
  },
  {
   "cell_type": "markdown",
   "metadata": {},
   "source": [
    "<div class=\"alert alert-success\" style=\"border-left: 15px solid #3c763d;border-radius:2px;\">\n",
    "\n",
    "    \n",
    "À l'aide des exemples précédents, écrire un programme qui calcule la somme des 50 premiers nombres pairs.  \n",
    "    </div>"
   ]
  },
  {
   "cell_type": "code",
   "execution_count": null,
   "metadata": {},
   "outputs": [],
   "source": [
    "somme = 0\n",
    "for ...\n"
   ]
  },
  {
   "cell_type": "markdown",
   "metadata": {},
   "source": [
    "<div class=\"alert alert-success\" style=\"border-left: 15px solid #3c763d;border-radius:2px;\">\n",
    "\n",
    "En utilisant l'instruction \"for\", écrire un programme affichant en sortie la table de multiplication de 6 en allant de 1 à 10.\n",
    "</div>"
   ]
  },
  {
   "cell_type": "code",
   "execution_count": null,
   "metadata": {},
   "outputs": [],
   "source": []
  },
  {
   "cell_type": "markdown",
   "metadata": {},
   "source": [
    "<h3 style=\"color: blue; font-style: 16px italic verdana;\"> b) Boucle non bornée : <code>While</code> </h3> "
   ]
  },
  {
   "cell_type": "markdown",
   "metadata": {},
   "source": [
    "<div class=\"alert alert-info\" role=\"alert\">\n",
    "\n",
    "\n",
    "**Définition**  \n",
    "Dans une boucle, on peut vouloir répéter une ou plusieurs instructions tant qu'une condition n'est pas vérifiée. Dans ce cas, on ne connaît pas à l'avance le nombre de tours que la boucle va faire. On utilise alors une *boucle non bornée*.\n",
    "\n",
    "En pseudo-code :  \n",
    "  \n",
    "    Tant que condition Faire     <-- dans une boucle bornée, il y a toujours une condition\n",
    "        Traitement               <-- le traitement est répété tant que la condition est vraie\n",
    "    Fin Tant que                 <-- on sort de la boucle dès que la condition est fausse\n",
    "</div>\n",
    "<div class=\"alert alert-danger\" role=\"alert\">\n",
    "    \n",
    "**Remarques**  \n",
    "+ Si la condition de la boucle non bornée n'est jamais fausse, le traitement sera répété à l'infini. On parle de *boucle infinie*. Cette erreur est souvent détectée par l'ordinateur, mais peut parfois conduire à un arrêt de ce dernier.\n",
    "+ En Python, une boucle non bornée s'écrit avec le mot clé `while` :\n",
    "```langage-python\n",
    "x = 0\n",
    "while(2*x+3 < 50):\n",
    "      x = x + 1\n",
    "x\n",
    "```\n",
    "Ce programme calcule l'image de $x$ par la fonction affine définie par $f(x)=2x+3$, en commençant par $x=0$. Si le résultat est inférieur à 50, on ajoute 1 à $x$ et on recommence le calcul. On dit aussi qu'on *incrémente* $x$. Dans le cas contraire, c'est-à-dire si le résultat est supérieur ou égal à 50, on sort de la boucle et on donne la valeur de $x$.  \n",
    "    </div>\n",
    "    <div class=\"alert alert-success\" style=\"border-left: 15px solid #3c763d;border-radius:2px;\">\n",
    "\n",
    "**Exemples**  \n",
    "Tester le programme suivant. Que fait-il ?"
   ]
  },
  {
   "cell_type": "code",
   "execution_count": null,
   "metadata": {},
   "outputs": [],
   "source": [
    "x = 0\n",
    "while(1200 - 3*x >= 499):\n",
    "    x = x + 1\n",
    "x\n",
    "# Le programme ...\n",
    "\n"
   ]
  },
  {
   "cell_type": "markdown",
   "metadata": {},
   "source": [
    "En s'aidant de l'exemple précédent, écrire un programme qui détermine le plus petit entier naturel tel que son carré soit strictement supérieur 123456789."
   ]
  },
  {
   "cell_type": "code",
   "execution_count": null,
   "metadata": {},
   "outputs": [],
   "source": [
    "x = 0\n",
    "while(...):\n"
   ]
  },
  {
   "cell_type": "markdown",
   "metadata": {},
   "source": [
    "<div class=\"alert alert-danger\" role=\"alert\">\n",
    "    \n",
    "**Remarque**  \n",
    "Python dispose d'une bibliothèque de fonctions aléatoires, nommée `random`. Dans cette bibliothèque, on trouve la fonction `randint` qui choisit au hasard un nombre entier entre deux bornes incluses.\n",
    "Ainsi l'instruction `randint(1,10)` va retourner un nombre entier compris entre 1 et 10.  \n",
    "</div>\n",
    "<div class=\"alert alert-success\" style=\"border-left: 15px solid #3c763d;border-radius:2px;\">\n",
    "    \n",
    "**Exemple**\n",
    "Tester le programme suivant. Que fait-il ?\n",
    "    </div>"
   ]
  },
  {
   "cell_type": "code",
   "execution_count": null,
   "metadata": {},
   "outputs": [],
   "source": [
    "import random\n",
    "nombre_secret = random.randint(1,10)\n",
    "x = int(input(\"Essayez de deviner le nombre secret, compris entre 1 et 10 : \"))\n",
    "while ( x != nombre_secret):\n",
    "    x = int(input(\"Essayez à nouveau de deviner le nombre secret, compris entre 1 et 10 : \"))\n",
    "print(\"Bravo c'était bien : \",x)"
   ]
  },
  {
   "cell_type": "markdown",
   "metadata": {},
   "source": [
    "Modifier le programme précédent pour obtenir le nombre de coups tentés à la sortie de la boucle.  \n"
   ]
  },
  {
   "cell_type": "code",
   "execution_count": null,
   "metadata": {},
   "outputs": [],
   "source": []
  },
  {
   "cell_type": "markdown",
   "metadata": {},
   "source": [
    "En utilisant l'instruction \"while\", écrire un programme affichant en sortie la table de multiplication de 6 en allant de 1 à 10."
   ]
  },
  {
   "cell_type": "code",
   "execution_count": null,
   "metadata": {},
   "outputs": [],
   "source": []
  },
  {
   "cell_type": "markdown",
   "metadata": {},
   "source": [
    "<h2 style=\"color: green; font-style: 16px italic verdana;\"> 4. Les fonctions </h2> "
   ]
  },
  {
   "cell_type": "markdown",
   "metadata": {},
   "source": [
    "\n",
    "<div class=\"alert alert-info\" role=\"alert\">\n",
    "\n",
    "**Définition**  \n",
    "Dans un programme informatique, on peut être amené à faire plusieurs fois les mêmes calculs, ou à exécuter plusieurs fois les mêmes instructions. Afin de ne pas répéter inutilement les lignes de code associées, il est possible de créer une fonction qu'il suffira d'appeler dès que nous en aurons besoin.\n",
    "Une fonction est caractérisée par trois choses :  \n",
    "1. son nom.\n",
    "2. les paramètres d'entrée, facultatifs, appelés aussi arguments d'entrée.\n",
    "3. le traitement effectué à l'intérieur de la fonction, qui peut donner lieu à un retour de valeur(s).\n",
    "    </div>\n",
    "<div class=\"alert alert-danger\" role=\"alert\">  \n",
    "    \n",
    "**Remarques**\n",
    "- Nous avons déjà fait appel à des fonctions, définies au préalable dans des bibliothèques (`print`,`input`,`randint` par exemple).\n",
    "- Pour utiliser une fonction, il faut l'appeler, c'est-à-dire s'en servir après l'avoir définie.\n",
    "- En Python, une fonction s'écrit avec le mot clé `def`, et peut renvoyer une valeur avec le mot clé `return` :\n",
    "```langage-python\n",
    "def aire_triangle(b,h):\n",
    "      aire = (b*h)/2\n",
    "      return aire\n",
    "```\n",
    "Cette fonction s'appelle `aire_triangle`. Elle a deux paramètres en entrée (`b` et `h`, pour la base et la hauteur du triangle). Elle calcule l'aire correspondante, puis la renvoie sous forme numérique.  \n",
    "    </div>\n",
    "<div class=\"alert alert-success\" style=\"border-left: 15px solid #3c763d;border-radius:2px;\">  \n",
    "    \n",
    "**Exemple**\n",
    "Tester le programme suivant. Changer la valeur des paramètres d'entrée, et vérifier que le résultat est correct.\n",
    "    </div>"
   ]
  },
  {
   "cell_type": "code",
   "execution_count": null,
   "metadata": {},
   "outputs": [],
   "source": [
    "# Définition de la fonction\n",
    "def aire_triangle(b,h):\n",
    "      aire = (b*h)/2\n",
    "      return aire\n",
    "# Appel de la fonction\n",
    "aire_triangle(10,0.8)"
   ]
  },
  {
   "cell_type": "markdown",
   "metadata": {},
   "source": [
    "<div class=\"alert alert-danger\" role=\"alert\">  \n",
    "\n",
    "\n",
    "**Remarque**  \n",
    "- L'instruction `return` interrompt le déroulement de la fonction dès qu'elle est exécutée.\n",
    "- Le nom des fonctions obéit aux mêmes règles que celui des variables : pas d'espace !\n",
    "    </div>\n",
    "<div class=\"alert alert-success\" style=\"border-left: 15px solid #3c763d;border-radius:2px;\">  \n",
    "\n",
    "**Exercice**  \n",
    "a. Créez une première fonction appelée `perimetre` permettant de calculer le périmètre d'un rectangle dont on connaît la longueur et la largeur.  \n",
    "b. Créez une deuxième fonction appelée `aire` permettant de calculer l'aire d'un rectangle dont on connaît la longueur et la largeur.  \n",
    "c. Créez un programme qui permet de calculer le produit de l'aire du rectangle par son périmètre.  \n",
    "</div>"
   ]
  },
  {
   "cell_type": "code",
   "execution_count": null,
   "metadata": {},
   "outputs": [],
   "source": []
  },
  {
   "cell_type": "markdown",
   "metadata": {},
   "source": [
    "<div class=\"alert alert-success\" style=\"border-left: 15px solid #3c763d;border-radius:2px;\">  \n",
    "  \n",
    "**Exercice**  \n",
    "Un vidéaste web a constaté qu'il gagnait 7% de followers chaque mois. Au 1er septembre 2018, il en compte 129 000. Il voudrait savoir quand il dépassera le million de followers. Pour cela, il a écrit un petit programme avec une boucle `while`, mais il lui manque la fonction `calcul_mois_suivant`. À vous d'identifier ses caractéristiques et de l'écrire.\n",
    "    </div>"
   ]
  },
  {
   "cell_type": "code",
   "execution_count": null,
   "metadata": {},
   "outputs": [],
   "source": [
    "# Fonction calcul_mois_suivant\n",
    "...\n",
    "...\n",
    "...\n",
    "# programme principal\n",
    "nb_followers = 129000\n",
    "mois = 0\n",
    "while (nb_followers < 1000000):\n",
    "    nb_followers = calcul_mois_suivant(nb_followers)\n",
    "    mois = mois + 1\n",
    "print(nb_followers,mois)"
   ]
  },
  {
   "cell_type": "markdown",
   "metadata": {},
   "source": [
    "<h2 style=\"color: orange; font-style: 16px italic verdana;\"> Pour les plus rapides ...</h2> "
   ]
  },
  {
   "cell_type": "markdown",
   "metadata": {},
   "source": [
    "Nous allons écrire en langage Python le programme « conversion » qui convertira un nombre en écriture binaire en écriture décimale."
   ]
  },
  {
   "cell_type": "markdown",
   "metadata": {},
   "source": [
    "Pour convertir un nombre binaire en décimal, on applique la formule ci-dessous :\n",
    "$01000101 = 0\\times2^7 + 1\\times2^6+ 0\\times2^5 + 0\\times2^4 + 0\\times2^3 + 1\\times2^2 + 0\\times2^1 + 1\\times2^0$.\n",
    "\n",
    "La puissance en python s'écrit : `2**4` pour $2^4$.  \n",
    "\n",
    "Par exemple :  \n",
    "\n",
    "|Nombre en binaire|Nombre en décimal            |\n",
    "|:---------------:|:---------------------------:|\n",
    "|10               | $1\\times2^1 + 0\\times2^0 =2$|\n",
    "|$xy$             | $x\\times2^1 + y\\times2^0$   |  \n",
    "\n",
    "Créer une fonction qui demande en entrée à l'utilisateur les valeurs de $x$ et de $y$ puis renvoie la valeur en décimal.\n"
   ]
  },
  {
   "cell_type": "code",
   "execution_count": null,
   "metadata": {},
   "outputs": [],
   "source": []
  },
  {
   "cell_type": "markdown",
   "metadata": {},
   "source": [
    "Améliorer la fonction pour qu'elle demande combien de bits sont à convertir et qu'elle demande autant de valeurs que nécessaire, puis renvoie la valeur en décimal.\n"
   ]
  },
  {
   "cell_type": "code",
   "execution_count": null,
   "metadata": {},
   "outputs": [],
   "source": []
  },
  {
   "cell_type": "markdown",
   "metadata": {},
   "source": [
    "Vous vérifierez vos résultats en utilisant la fonction `bin(69)`qui renvoie `0b01000101` : Ob signifiant qu'il s'a"
   ]
  }
 ],
 "metadata": {
  "kernelspec": {
   "display_name": "Python 3",
   "language": "python",
   "name": "python3"
  },
  "language_info": {
   "codemirror_mode": {
    "name": "ipython",
    "version": 3
   },
   "file_extension": ".py",
   "mimetype": "text/x-python",
   "name": "python",
   "nbconvert_exporter": "python",
   "pygments_lexer": "ipython3",
   "version": "3.7.3"
  }
 },
 "nbformat": 4,
 "nbformat_minor": 2
}
